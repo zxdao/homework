{
 "cells": [
  {
   "cell_type": "code",
   "execution_count": 20,
   "metadata": {},
   "outputs": [],
   "source": [
    "# import cv2\n",
    "# img = cv2.imread(\"C:\\\\Users\\\\zxdao\\\\Desktop\\\\001.jpg\")\n",
    "\n",
    "\n",
    "# # print img.shape\n",
    "\n",
    "# def on_EVENT_LBUTTONDOWN(event, x, y, flags, param):\n",
    "#     if event == cv2.EVENT_LBUTTONDOWN:\n",
    "#         xy = \"%d,%d\" % (x, y)\n",
    "#         cv2.circle(img, (x, y), 1, (255, 0, 0), thickness=-1)\n",
    "#         cv2.putText(img, xy, (x, y), cv2.FONT_HERSHEY_PLAIN,\n",
    "#                     1.0, (0, 0, 0), thickness=1)\n",
    "#         cv2.imshow(\"image\", img)\n",
    "\n",
    "\n",
    "# cv2.namedWindow(\"image\")\n",
    "# cv2.setMouseCallback(\"image\", on_EVENT_LBUTTONDOWN)\n",
    "# cv2.imshow(\"image\", img)\n",
    "\n",
    "# while (True):\n",
    "#     try:\n",
    "#         cv2.waitKey(100)\n",
    "#     except Exception:\n",
    "#         cv2.destroyAllWindows()\n",
    "#         break\n",
    "\n",
    "# cv2.waitKey(0)\n",
    "# cv2.destroyAllWindows()"
   ]
  },
  {
   "cell_type": "code",
   "execution_count": 21,
   "metadata": {},
   "outputs": [],
   "source": [
    "import numpy as np\n",
    "from PIL import Image\n",
    "import matplotlib.pyplot as plt"
   ]
  },
  {
   "cell_type": "code",
   "execution_count": 22,
   "metadata": {},
   "outputs": [
    {
     "data": {
      "image/png": "[encoded data removed]",
      "text/plain": [
       "<PIL.Image.Image image mode=L size=195x249 at 0x16A56A60C50>"
      ]
     },
     "execution_count": 22,
     "metadata": {},
     "output_type": "execute_result"
    }
   ],
   "source": [
    "im = Image.open('C:\\\\Users\\\\zxdao\\\\Desktop\\\\001.jpg')\n",
    "im = im.convert('L')\n",
    "im"
   ]
  },
  {
   "cell_type": "code",
   "execution_count": 23,
   "metadata": {},
   "outputs": [
    {
     "name": "stdout",
     "output_type": "stream",
     "text": [
      "图形尺寸： (249, 195)\n"
     ]
    },
    {
     "data": {
      "text/plain": [
       "matrix([[207, 208, 208, ..., 196, 197, 197],\n",
       "        [208, 208, 208, ..., 197, 198, 198],\n",
       "        [208, 208, 209, ..., 198, 199, 198],\n",
       "        ...,\n",
       "        [190, 192, 191, ..., 190, 190, 191],\n",
       "        [191, 192, 189, ..., 192, 192, 192],\n",
       "        [195, 192, 185, ..., 195, 192, 192]], dtype=uint8)"
      ]
     },
     "execution_count": 23,
     "metadata": {},
     "output_type": "execute_result"
    }
   ],
   "source": [
    "im = np.mat(im)\n",
    "print('图形尺寸：', im.shape)\n",
    "im"
   ]
  },
  {
   "cell_type": "code",
   "execution_count": 24,
   "metadata": {},
   "outputs": [],
   "source": [
    "#def getPos()\n",
    "\n",
    "getPos = [\n",
    "    [103,72],\n",
    "    [101,109],\n",
    "    [140,95]\n",
    "]      #初始三点位置（实际需要获取！！！！！）"
   ]
  },
  {
   "cell_type": "code",
   "execution_count": 25,
   "metadata": {},
   "outputs": [],
   "source": [
    "#def getTargetPos()\n",
    "\n",
    "targetPos = [\n",
    "    [25,24],\n",
    "    [25,76],\n",
    "    [75,50]\n",
    "]      #目标位置（写成函数传入）"
   ]
  },
  {
   "cell_type": "code",
   "execution_count": 26,
   "metadata": {},
   "outputs": [],
   "source": [
    "#齐次化函数\n",
    "def toHomogeneous(data, axis=1):\n",
    "    data = np.insert(data, len(data[0]), 1, axis=axis)      #默认插入一列1\n",
    "    return data"
   ]
  },
  {
   "cell_type": "code",
   "execution_count": 27,
   "metadata": {},
   "outputs": [],
   "source": [
    "#获得仿射变换矩阵\n",
    "def getTrans(oriPos, targetPos):\n",
    "    oriPos = np.mat(oriPos)\n",
    "    targetPos = np.mat(targetPos)\n",
    "    \n",
    "    trans = np.linalg.inv(oriPos.T*oriPos)*oriPos.T*targetPos\n",
    "    \n",
    "    return trans"
   ]
  },
  {
   "cell_type": "code",
   "execution_count": 28,
   "metadata": {},
   "outputs": [
    {
     "data": {
      "text/plain": [
       "array([[103,  72,   1],\n",
       "       [101, 109,   1],\n",
       "       [140,  95,   1]])"
      ]
     },
     "execution_count": 28,
     "metadata": {},
     "output_type": "execute_result"
    }
   ],
   "source": [
    "getPos = toHomogeneous(getPos)\n",
    "targetPos = toHomogeneous(targetPos)\n",
    "trans = getTrans(getPos, targetPos)\n",
    "getPos"
   ]
  },
  {
   "cell_type": "code",
   "execution_count": 29,
   "metadata": {},
   "outputs": [],
   "source": [
    "#获得图像四角坐标\n",
    "def get_xycorner(im):\n",
    "    xlen, ylen = im.shape[0]-1, im.shape[1]-1      #以像素为单位的原图的0轴长与1轴长\n",
    "    xycorner = np.array([\n",
    "        [0,0,1],\n",
    "        [0,ylen,1],\n",
    "        [xlen,0,1],\n",
    "        [xlen,ylen,1]\n",
    "    ])      #四个顶点的齐次坐标\n",
    "    return xycorner"
   ]
  },
  {
   "cell_type": "code",
   "execution_count": 30,
   "metadata": {},
   "outputs": [
    {
     "data": {
      "text/plain": [
       "array([[  0,   0,   1],\n",
       "       [  0, 194,   1],\n",
       "       [248,   0,   1],\n",
       "       [248, 194,   1]])"
      ]
     },
     "execution_count": 30,
     "metadata": {},
     "output_type": "execute_result"
    }
   ],
   "source": [
    "xycorner = get_xycorner(im)\n",
    "xycorner"
   ]
  },
  {
   "cell_type": "code",
   "execution_count": 31,
   "metadata": {},
   "outputs": [],
   "source": [
    "#定义方法：将向量组传入vectors，变换矩阵传入transMat，返回变换后的向量组\n",
    "def transform(vectors, transMat):\n",
    "    return (vectors*transMat)"
   ]
  },
  {
   "cell_type": "code",
   "execution_count": 32,
   "metadata": {},
   "outputs": [
    {
     "data": {
      "text/plain": [
       "matrix([[-114.75265018,  -59.51236749,    1.        ],\n",
       "        [-101.04240283,  211.40212014,    1.        ],\n",
       "        [ 209.48763251, -100.52438163,    1.        ],\n",
       "        [ 223.19787986,  170.39010601,    1.        ]])"
      ]
     },
     "execution_count": 32,
     "metadata": {},
     "output_type": "execute_result"
    }
   ],
   "source": [
    "#计算变换后的四顶点齐次坐标\n",
    "uvcorner = transform(xycorner, trans)\n",
    "uvcorner"
   ]
  },
  {
   "cell_type": "code",
   "execution_count": 33,
   "metadata": {},
   "outputs": [
    {
     "name": "stdout",
     "output_type": "stream",
     "text": [
      "337.950530035337 311.92650176678393\n"
     ]
    }
   ],
   "source": [
    "#最终图片的大小(len_0,len_1)\n",
    "len_0 = uvcorner.max(axis=0)[0,0] - uvcorner.min(axis=0)[0,0]\n",
    "len_1 = uvcorner.max(axis=0)[0,1] - uvcorner.min(axis=0)[0,1]\n",
    "print(len_0,len_1)"
   ]
  },
  {
   "cell_type": "code",
   "execution_count": 34,
   "metadata": {},
   "outputs": [],
   "source": [
    "#获取后向仿射变换矩阵\n",
    "def get_inv_trans(trans):\n",
    "    inv_trans = np.linalg.inv(trans)      #后向矩阵\n",
    "    return inv_trans"
   ]
  },
  {
   "cell_type": "code",
   "execution_count": 35,
   "metadata": {},
   "outputs": [
    {
     "data": {
      "text/plain": [
       "matrix([[ 7.60000000e-01,  9.00000000e-02, -5.82957102e-17],\n",
       "        [-3.84615385e-02,  7.11538462e-01, -3.68359898e-17],\n",
       "        [ 8.49230769e+01,  5.26730769e+01,  1.00000000e+00]])"
      ]
     },
     "execution_count": 35,
     "metadata": {},
     "output_type": "execute_result"
    }
   ],
   "source": [
    "inv_trans = get_inv_trans(trans)\n",
    "inv_trans"
   ]
  },
  {
   "cell_type": "code",
   "execution_count": 36,
   "metadata": {},
   "outputs": [],
   "source": [
    "#image = Image.fromarray(matrix)      #矩阵转化为图片\n",
    "#创建图像数组\n",
    "import math\n",
    "new_array = np.zeros((math.floor(101),math.floor(101)))"
   ]
  },
  {
   "cell_type": "code",
   "execution_count": 37,
   "metadata": {},
   "outputs": [],
   "source": [
    "def nearestColor(point, im):\n",
    "    x = 0\n",
    "    y = 0\n",
    "    if (point[0,0]-math.floor(point[0,0])<0.5):\n",
    "        x = math.floor(point[0,0])\n",
    "    else:\n",
    "        x = math.ceil(point[0,0])\n",
    "    if (point[0,1]-math.ceil(point[0,1]<0.5)):\n",
    "        y = math.floor(point[0,1])\n",
    "    else:\n",
    "        y = math.ceil(point[0,1])\n",
    "    return (im[x,y])\n",
    "            \n",
    "\n",
    "for i in range(math.floor(101)):\n",
    "    for j in range(math.floor(101)):\n",
    "        point = transform(np.mat([i,j,1]), inv_trans)\n",
    "        if (point[0,0]>xycorner.max(axis=0)[0]\n",
    "            or point[0,0]<xycorner.min(axis=0)[0]\n",
    "            or point[0,1]>xycorner.max(axis=0)[1]\n",
    "            or point[0,1]<xycorner.min(axis=0)[1]\n",
    "           ):\n",
    "            new_array[i,j] = 255\n",
    "        else:\n",
    "            new_array[i,j] = nearestColor(point, im)\n",
    "            \n",
    "new_image = Image.fromarray(np.mat(new_array))\n",
    "new_image.show()"
   ]
  },
  {
   "cell_type": "code",
   "execution_count": null,
   "metadata": {},
   "outputs": [],
   "source": []
  }
 ],
 "metadata": {
  "kernelspec": {
   "display_name": "Python 3",
   "language": "python",
   "name": "python3"
  },
  "language_info": {
   "codemirror_mode": {
    "name": "ipython",
    "version": 3
   },
   "file_extension": ".py",
   "mimetype": "text/x-python",
   "name": "python",
   "nbconvert_exporter": "python",
   "pygments_lexer": "ipython3",
   "version": "3.7.1rc1"
  }
 },
 "nbformat": 4,
 "nbformat_minor": 2
}
